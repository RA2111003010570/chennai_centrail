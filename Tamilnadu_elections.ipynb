{
  "nbformat": 4,
  "nbformat_minor": 0,
  "metadata": {
    "colab": {
      "provenance": [],
      "toc_visible": true,
      "authorship_tag": "ABX9TyOpVwgqnaRVUFPfR3r/HbUE",
      "include_colab_link": true
    },
    "kernelspec": {
      "name": "python3",
      "display_name": "Python 3"
    },
    "language_info": {
      "name": "python"
    }
  },
  "cells": [
    {
      "cell_type": "markdown",
      "metadata": {
        "id": "view-in-github",
        "colab_type": "text"
      },
      "source": [
        "<a href=\"https://colab.research.google.com/github/RA2111003010570/chennai_centrail/blob/main/Tamilnadu_elections.ipynb\" target=\"_parent\"><img src=\"https://colab.research.google.com/assets/colab-badge.svg\" alt=\"Open In Colab\"/></a>"
      ]
    },
    {
      "cell_type": "code",
      "execution_count": null,
      "metadata": {
        "colab": {
          "base_uri": "https://localhost:8080/"
        },
        "id": "-Csug2uIjxV1",
        "outputId": "2084d3d7-25ba-4876-e59e-ed9cdab3de75"
      },
      "outputs": [
        {
          "output_type": "stream",
          "name": "stdout",
          "text": [
            "Mounted at /content/drive\n"
          ]
        }
      ],
      "source": [
        "from google.colab import drive\n",
        "drive.mount('/content/drive')"
      ]
    },
    {
      "cell_type": "code",
      "source": [
        "import pandas as pd\n",
        "import numpy as np\n",
        "import matplotlib.pyplot as plt"
      ],
      "metadata": {
        "id": "FH6w1DU_jywB"
      },
      "execution_count": null,
      "outputs": []
    },
    {
      "cell_type": "code",
      "source": [
        "e = pd.read_csv('/content/drive/MyDrive/tamilnadu_election_data.csv')lection_data"
      ],
      "metadata": {
        "id": "FiKYteZikUnc"
      },
      "execution_count": null,
      "outputs": []
    },
    {
      "cell_type": "code",
      "source": [
        "print(election_data)\n",
        "print(election_data.dtypes)"
      ],
      "metadata": {
        "colab": {
          "base_uri": "https://localhost:8080/"
        },
        "id": "Z1L4nRkJkf20",
        "outputId": "dc28cbdb-b607-4dce-9d95-8700d8a7a4f0"
      },
      "execution_count": null,
      "outputs": [
        {
          "output_type": "stream",
          "name": "stdout",
          "text": [
            "       Constituency  Const. No.                            Leading Candidate  \\\n",
            "0         ARAKKONAM           7                            S JAGATHRATCHAKAN   \n",
            "1             ARANI          12                           THARANIVENTHAN M S   \n",
            "2   CHENNAI CENTRAL           4                              DAYANIDHI MARAN   \n",
            "3     CHENNAI NORTH           2                      DR.KALANIDHI VEERASWAMY   \n",
            "4     CHENNAI SOUTH           3  T.SUMATHY (ALIAS) THAMIZHACHI THANGAPANDIAN   \n",
            "5       CHIDAMBARAM          27                         THIRUMAAVALAVAN THOL   \n",
            "6        COIMBATORE          20                         GANAPATHY RAJKUMAR P   \n",
            "7         CUDDALORE          26                            M.K. VISHNUPRASAD   \n",
            "8        DHARMAPURI          10                                     MANI. A.   \n",
            "9          DINDIGUL          22                            SACHITHANANTHAM R   \n",
            "10            ERODE          17                                  K E PRAKASH   \n",
            "11     KALLAKURICHI          14                               MALAIYARASAN D   \n",
            "12     KANCHEEPURAM           6                                    SELVAM. G   \n",
            "13    KANNIYAKUMARI          39            VIJAYAKUMAR (Alias) VIJAY VASANTH   \n",
            "14            KARUR          23                                 JOTHIMANI. S   \n",
            "15      KRISHNAGIRI           9                                   GOPINATH K   \n",
            "16          MADURAI          32                                 VENKATESAN S   \n",
            "17   MAYILADUTHURAI          28                                      SUDHA R   \n",
            "18     NAGAPATTINAM          29                                   SELVARAJ V   \n",
            "19         NAMAKKAL          16                              MATHESWARAN V S   \n",
            "20         NILGIRIS          19                                       RAJA A   \n",
            "21       PERAMBALUR          25                                   ARUN NEHRU   \n",
            "22         POLLACHI          21                                 ESWARASAMY K   \n",
            "23   RAMANATHAPURAM          35                                  NAVASKANI K   \n",
            "24            SALEM          15                           SELVAGANAPATHI T M   \n",
            "25        SIVAGANGA          31                          KARTI P CHIDAMBARAM   \n",
            "26    SRIPERUMBUDUR           5                                    T R BAALU   \n",
            "27          TENKASI          37                            DR RANI SRI KUMAR   \n",
            "28        THANJAVUR          30                                   MURASOLI S   \n",
            "29            THENI          33                           THANGA TAMILSELVAN   \n",
            "30     THOOTHUKKUDI          36                        KANIMOZHI KARUNANIDHI   \n",
            "31  TIRUCHIRAPPALLI          24                                  DURAI VAIKO   \n",
            "32      TIRUNELVELI          38                               ROBERT BRUCE C   \n",
            "33         TIRUPPUR          18                               SUBBARAYAN, K.   \n",
            "34       TIRUVALLUR           1                            Sasikanth Senthil   \n",
            "35   TIRUVANNAMALAI          11                              ANNADURAI, C.N.   \n",
            "36          VELLORE           8                              DM KATHIR ANAND   \n",
            "37       VILUPPURAM          13                                 RAVIKUMAR. D   \n",
            "38     VIRUDHUNAGAR          34                            MANICKAM TAGORE B   \n",
            "\n",
            "                             Leading Party  \\\n",
            "0                Dravida Munnetra Kazhagam   \n",
            "1                Dravida Munnetra Kazhagam   \n",
            "2                Dravida Munnetra Kazhagam   \n",
            "3                Dravida Munnetra Kazhagam   \n",
            "4                Dravida Munnetra Kazhagam   \n",
            "5           Viduthalai Chiruthaigal Katchi   \n",
            "6                Dravida Munnetra Kazhagam   \n",
            "7                 Indian National Congress   \n",
            "8                Dravida Munnetra Kazhagam   \n",
            "9       Communist Party of India (Marxist)   \n",
            "10               Dravida Munnetra Kazhagam   \n",
            "11               Dravida Munnetra Kazhagam   \n",
            "12               Dravida Munnetra Kazhagam   \n",
            "13                Indian National Congress   \n",
            "14                Indian National Congress   \n",
            "15                Indian National Congress   \n",
            "16      Communist Party of India (Marxist)   \n",
            "17                Indian National Congress   \n",
            "18                Communist Party of India   \n",
            "19               Dravida Munnetra Kazhagam   \n",
            "20               Dravida Munnetra Kazhagam   \n",
            "21               Dravida Munnetra Kazhagam   \n",
            "22               Dravida Munnetra Kazhagam   \n",
            "23              Indian Union Muslim League   \n",
            "24               Dravida Munnetra Kazhagam   \n",
            "25                Indian National Congress   \n",
            "26               Dravida Munnetra Kazhagam   \n",
            "27               Dravida Munnetra Kazhagam   \n",
            "28               Dravida Munnetra Kazhagam   \n",
            "29               Dravida Munnetra Kazhagam   \n",
            "30               Dravida Munnetra Kazhagam   \n",
            "31  Marumalarchi Dravida Munnetra Kazhagam   \n",
            "32                Indian National Congress   \n",
            "33                Communist Party of India   \n",
            "34                Indian National Congress   \n",
            "35               Dravida Munnetra Kazhagam   \n",
            "36               Dravida Munnetra Kazhagam   \n",
            "37          Viduthalai Chiruthaigal Katchi   \n",
            "38                Indian National Congress   \n",
            "\n",
            "                    Trailing Candidate  \\\n",
            "0                            L VIJAYAN   \n",
            "1                      GAJENDRAN, G.V.   \n",
            "2                                VINOJ   \n",
            "3                           R. MANOHAR   \n",
            "4           DR.TAMILISAI SOUNDARARAJAN   \n",
            "5                       CHANDRAHASAN M   \n",
            "6                          ANNAMALAI K   \n",
            "7                      P. SIVAKOZHUNDU   \n",
            "8                     SOWMIYA ANBUMANI   \n",
            "9                  MOHAMED MUBARAK M A   \n",
            "10                         ASHOK KUMAR   \n",
            "11                        KUMARAGURU R   \n",
            "12                        RAJASEKAR. E   \n",
            "13                     RADHAKRISHNAN P   \n",
            "14                        THANGAVEL. L   \n",
            "15                       JAYAPRAKASH V   \n",
            "16                   RAAMA SREENIVASAN   \n",
            "17                              BABU P   \n",
            "18                 DR SURSITH SANKAR G   \n",
            "19                         TAMILMANI S   \n",
            "20                        DR MURUGAN L   \n",
            "21                    CHANDRAMOHAN N D   \n",
            "22                       KARTHIKEYAN A   \n",
            "23  PANNEERSELVAM O S/O OTTAKARATHEVAR   \n",
            "24                           VIGNESH P   \n",
            "25                        XAVIERDASS A   \n",
            "26                         G PREMKUMAR   \n",
            "27                    DR K KRISHNASAMY   \n",
            "28                         SIVANESAN P   \n",
            "29                      TTV DHINAKARAN   \n",
            "30                 SIVASAMY VELUMANI R   \n",
            "31                       KARUPPAIAH. P   \n",
            "32                   NAINAR NAGENTHRAN   \n",
            "33                     ARUNACHALAM, P.   \n",
            "34               Balaganapathy, V. Pon   \n",
            "35                     KALIYAPERUMAL M   \n",
            "36                        AC SHANMUGAM   \n",
            "37                        BHAGYARAJ. J   \n",
            "38                 VIJAYAPRABHAKARAN V   \n",
            "\n",
            "                              Trailing Party  Margin           Status  \n",
            "0   All India Anna Dravida Munnetra Kazhagam  306559  Result Declared  \n",
            "1   All India Anna Dravida Munnetra Kazhagam  208766  Result Declared  \n",
            "2                     Bharatiya Janata Party  244689  Result Declared  \n",
            "3   All India Anna Dravida Munnetra Kazhagam  339222  Result Declared  \n",
            "4                     Bharatiya Janata Party  225945  Result Declared  \n",
            "5   All India Anna Dravida Munnetra Kazhagam  103554  Result Declared  \n",
            "6                     Bharatiya Janata Party  118068  Result Declared  \n",
            "7           Desiya Murpokku Dravida Kazhagam  185896  Result Declared  \n",
            "8                      Pattali Makkal Katchi   21300  Result Declared  \n",
            "9   All India Anna Dravida Munnetra Kazhagam  443821  Result Declared  \n",
            "10  All India Anna Dravida Munnetra Kazhagam  236566  Result Declared  \n",
            "11  All India Anna Dravida Munnetra Kazhagam   53784  Result Declared  \n",
            "12  All India Anna Dravida Munnetra Kazhagam  221473  Result Declared  \n",
            "13                    Bharatiya Janata Party  179907  Result Declared  \n",
            "14  All India Anna Dravida Munnetra Kazhagam  166816  Result Declared  \n",
            "15  All India Anna Dravida Munnetra Kazhagam  192486  Result Declared  \n",
            "16                    Bharatiya Janata Party  209409  Result Declared  \n",
            "17  All India Anna Dravida Munnetra Kazhagam  271183  Result Declared  \n",
            "18  All India Anna Dravida Munnetra Kazhagam  208957  Result Declared  \n",
            "19  All India Anna Dravida Munnetra Kazhagam   29112  Result Declared  \n",
            "20                    Bharatiya Janata Party  240585  Result Declared  \n",
            "21  All India Anna Dravida Munnetra Kazhagam  389107  Result Declared  \n",
            "22  All India Anna Dravida Munnetra Kazhagam  252042  Result Declared  \n",
            "23                               Independent  166782  Result Declared  \n",
            "24  All India Anna Dravida Munnetra Kazhagam   70357  Result Declared  \n",
            "25  All India Anna Dravida Munnetra Kazhagam  205664  Result Declared  \n",
            "26  All India Anna Dravida Munnetra Kazhagam  487029  Result Declared  \n",
            "27  All India Anna Dravida Munnetra Kazhagam  196199  Result Declared  \n",
            "28          Desiya Murpokku Dravida Kazhagam  319583  Result Declared  \n",
            "29             Amma Makkal Munnettra Kazagam  278825  Result Declared  \n",
            "30  All India Anna Dravida Munnetra Kazhagam  392738  Result Declared  \n",
            "31  All India Anna Dravida Munnetra Kazhagam  313094  Result Declared  \n",
            "32                    Bharatiya Janata Party  165620  Result Declared  \n",
            "33  All India Anna Dravida Munnetra Kazhagam  125928  Result Declared  \n",
            "34                    Bharatiya Janata Party  572155  Result Declared  \n",
            "35  All India Anna Dravida Munnetra Kazhagam  233931  Result Declared  \n",
            "36                    Bharatiya Janata Party  215702  Result Declared  \n",
            "37  All India Anna Dravida Munnetra Kazhagam   70703  Result Declared  \n",
            "38          Desiya Murpokku Dravida Kazhagam    4379  Result Declared  \n",
            "Constituency          object\n",
            "Const. No.             int64\n",
            "Leading Candidate     object\n",
            "Leading Party         object\n",
            "Trailing Candidate    object\n",
            "Trailing Party        object\n",
            "Margin                 int64\n",
            "Status                object\n",
            "dtype: object\n"
          ]
        }
      ]
    },
    {
      "cell_type": "code",
      "source": [
        "import pandas as pd\n",
        "party_counts = election_data['Leading Party'].value_counts()\n",
        "print(party_counts)\n",
        "\n"
      ],
      "metadata": {
        "colab": {
          "base_uri": "https://localhost:8080/"
        },
        "id": "s_pnjy1_kn_M",
        "outputId": "1f5dbc64-c663-4fff-f33d-4564400a8da6"
      },
      "execution_count": null,
      "outputs": [
        {
          "output_type": "stream",
          "name": "stdout",
          "text": [
            "Leading Party\n",
            "Dravida Munnetra Kazhagam                 22\n",
            "Indian National Congress                   9\n",
            "Viduthalai Chiruthaigal Katchi             2\n",
            "Communist Party of India (Marxist)         2\n",
            "Communist Party of India                   2\n",
            "Indian Union Muslim League                 1\n",
            "Marumalarchi Dravida Munnetra Kazhagam     1\n",
            "Name: count, dtype: int64\n"
          ]
        }
      ]
    },
    {
      "cell_type": "code",
      "source": [
        "import pandas as pd\n",
        "# Factorize the 'Leading Party' column and store it back\n",
        "election_data['Leading Party'] = pd.factorize(election_data['Leading Party'])[0]\n",
        "print(election_data['Leading Party']) # Print to check results"
      ],
      "metadata": {
        "colab": {
          "base_uri": "https://localhost:8080/"
        },
        "id": "WNaUAkgmqw4p",
        "outputId": "97cde6fc-f3dc-4f64-a34e-fc02105c56ad"
      },
      "execution_count": null,
      "outputs": [
        {
          "output_type": "stream",
          "name": "stdout",
          "text": [
            "0     0\n",
            "1     0\n",
            "2     0\n",
            "3     0\n",
            "4     0\n",
            "5     1\n",
            "6     0\n",
            "7     2\n",
            "8     0\n",
            "9     3\n",
            "10    0\n",
            "11    0\n",
            "12    0\n",
            "13    2\n",
            "14    2\n",
            "15    2\n",
            "16    3\n",
            "17    2\n",
            "18    4\n",
            "19    0\n",
            "20    0\n",
            "21    0\n",
            "22    0\n",
            "23    5\n",
            "24    0\n",
            "25    2\n",
            "26    0\n",
            "27    0\n",
            "28    0\n",
            "29    0\n",
            "30    0\n",
            "31    6\n",
            "32    2\n",
            "33    4\n",
            "34    2\n",
            "35    0\n",
            "36    0\n",
            "37    1\n",
            "38    2\n",
            "Name: Leading Party, dtype: int64\n"
          ]
        }
      ]
    },
    {
      "cell_type": "code",
      "source": [
        "print(election_data)"
      ],
      "metadata": {
        "colab": {
          "base_uri": "https://localhost:8080/"
        },
        "id": "f-jUcMJesXmi",
        "outputId": "bbedf56d-df45-4cc3-c09e-05a25530d3e1"
      },
      "execution_count": null,
      "outputs": [
        {
          "output_type": "stream",
          "name": "stdout",
          "text": [
            "       Constituency  Const. No.                            Leading Candidate  \\\n",
            "0         ARAKKONAM           7                            S JAGATHRATCHAKAN   \n",
            "1             ARANI          12                           THARANIVENTHAN M S   \n",
            "2   CHENNAI CENTRAL           4                              DAYANIDHI MARAN   \n",
            "3     CHENNAI NORTH           2                      DR.KALANIDHI VEERASWAMY   \n",
            "4     CHENNAI SOUTH           3  T.SUMATHY (ALIAS) THAMIZHACHI THANGAPANDIAN   \n",
            "5       CHIDAMBARAM          27                         THIRUMAAVALAVAN THOL   \n",
            "6        COIMBATORE          20                         GANAPATHY RAJKUMAR P   \n",
            "7         CUDDALORE          26                            M.K. VISHNUPRASAD   \n",
            "8        DHARMAPURI          10                                     MANI. A.   \n",
            "9          DINDIGUL          22                            SACHITHANANTHAM R   \n",
            "10            ERODE          17                                  K E PRAKASH   \n",
            "11     KALLAKURICHI          14                               MALAIYARASAN D   \n",
            "12     KANCHEEPURAM           6                                    SELVAM. G   \n",
            "13    KANNIYAKUMARI          39            VIJAYAKUMAR (Alias) VIJAY VASANTH   \n",
            "14            KARUR          23                                 JOTHIMANI. S   \n",
            "15      KRISHNAGIRI           9                                   GOPINATH K   \n",
            "16          MADURAI          32                                 VENKATESAN S   \n",
            "17   MAYILADUTHURAI          28                                      SUDHA R   \n",
            "18     NAGAPATTINAM          29                                   SELVARAJ V   \n",
            "19         NAMAKKAL          16                              MATHESWARAN V S   \n",
            "20         NILGIRIS          19                                       RAJA A   \n",
            "21       PERAMBALUR          25                                   ARUN NEHRU   \n",
            "22         POLLACHI          21                                 ESWARASAMY K   \n",
            "23   RAMANATHAPURAM          35                                  NAVASKANI K   \n",
            "24            SALEM          15                           SELVAGANAPATHI T M   \n",
            "25        SIVAGANGA          31                          KARTI P CHIDAMBARAM   \n",
            "26    SRIPERUMBUDUR           5                                    T R BAALU   \n",
            "27          TENKASI          37                            DR RANI SRI KUMAR   \n",
            "28        THANJAVUR          30                                   MURASOLI S   \n",
            "29            THENI          33                           THANGA TAMILSELVAN   \n",
            "30     THOOTHUKKUDI          36                        KANIMOZHI KARUNANIDHI   \n",
            "31  TIRUCHIRAPPALLI          24                                  DURAI VAIKO   \n",
            "32      TIRUNELVELI          38                               ROBERT BRUCE C   \n",
            "33         TIRUPPUR          18                               SUBBARAYAN, K.   \n",
            "34       TIRUVALLUR           1                            Sasikanth Senthil   \n",
            "35   TIRUVANNAMALAI          11                              ANNADURAI, C.N.   \n",
            "36          VELLORE           8                              DM KATHIR ANAND   \n",
            "37       VILUPPURAM          13                                 RAVIKUMAR. D   \n",
            "38     VIRUDHUNAGAR          34                            MANICKAM TAGORE B   \n",
            "\n",
            "    Leading Party                  Trailing Candidate  \\\n",
            "0               0                           L VIJAYAN   \n",
            "1               0                     GAJENDRAN, G.V.   \n",
            "2               0                               VINOJ   \n",
            "3               0                          R. MANOHAR   \n",
            "4               0          DR.TAMILISAI SOUNDARARAJAN   \n",
            "5               1                      CHANDRAHASAN M   \n",
            "6               0                         ANNAMALAI K   \n",
            "7               2                     P. SIVAKOZHUNDU   \n",
            "8               0                    SOWMIYA ANBUMANI   \n",
            "9               3                 MOHAMED MUBARAK M A   \n",
            "10              0                         ASHOK KUMAR   \n",
            "11              0                        KUMARAGURU R   \n",
            "12              0                        RAJASEKAR. E   \n",
            "13              2                     RADHAKRISHNAN P   \n",
            "14              2                        THANGAVEL. L   \n",
            "15              2                       JAYAPRAKASH V   \n",
            "16              3                   RAAMA SREENIVASAN   \n",
            "17              2                              BABU P   \n",
            "18              4                 DR SURSITH SANKAR G   \n",
            "19              0                         TAMILMANI S   \n",
            "20              0                        DR MURUGAN L   \n",
            "21              0                    CHANDRAMOHAN N D   \n",
            "22              0                       KARTHIKEYAN A   \n",
            "23              5  PANNEERSELVAM O S/O OTTAKARATHEVAR   \n",
            "24              0                           VIGNESH P   \n",
            "25              2                        XAVIERDASS A   \n",
            "26              0                         G PREMKUMAR   \n",
            "27              0                    DR K KRISHNASAMY   \n",
            "28              0                         SIVANESAN P   \n",
            "29              0                      TTV DHINAKARAN   \n",
            "30              0                 SIVASAMY VELUMANI R   \n",
            "31              6                       KARUPPAIAH. P   \n",
            "32              2                   NAINAR NAGENTHRAN   \n",
            "33              4                     ARUNACHALAM, P.   \n",
            "34              2               Balaganapathy, V. Pon   \n",
            "35              0                     KALIYAPERUMAL M   \n",
            "36              0                        AC SHANMUGAM   \n",
            "37              1                        BHAGYARAJ. J   \n",
            "38              2                 VIJAYAPRABHAKARAN V   \n",
            "\n",
            "                              Trailing Party  Margin           Status  \n",
            "0   All India Anna Dravida Munnetra Kazhagam  306559  Result Declared  \n",
            "1   All India Anna Dravida Munnetra Kazhagam  208766  Result Declared  \n",
            "2                     Bharatiya Janata Party  244689  Result Declared  \n",
            "3   All India Anna Dravida Munnetra Kazhagam  339222  Result Declared  \n",
            "4                     Bharatiya Janata Party  225945  Result Declared  \n",
            "5   All India Anna Dravida Munnetra Kazhagam  103554  Result Declared  \n",
            "6                     Bharatiya Janata Party  118068  Result Declared  \n",
            "7           Desiya Murpokku Dravida Kazhagam  185896  Result Declared  \n",
            "8                      Pattali Makkal Katchi   21300  Result Declared  \n",
            "9   All India Anna Dravida Munnetra Kazhagam  443821  Result Declared  \n",
            "10  All India Anna Dravida Munnetra Kazhagam  236566  Result Declared  \n",
            "11  All India Anna Dravida Munnetra Kazhagam   53784  Result Declared  \n",
            "12  All India Anna Dravida Munnetra Kazhagam  221473  Result Declared  \n",
            "13                    Bharatiya Janata Party  179907  Result Declared  \n",
            "14  All India Anna Dravida Munnetra Kazhagam  166816  Result Declared  \n",
            "15  All India Anna Dravida Munnetra Kazhagam  192486  Result Declared  \n",
            "16                    Bharatiya Janata Party  209409  Result Declared  \n",
            "17  All India Anna Dravida Munnetra Kazhagam  271183  Result Declared  \n",
            "18  All India Anna Dravida Munnetra Kazhagam  208957  Result Declared  \n",
            "19  All India Anna Dravida Munnetra Kazhagam   29112  Result Declared  \n",
            "20                    Bharatiya Janata Party  240585  Result Declared  \n",
            "21  All India Anna Dravida Munnetra Kazhagam  389107  Result Declared  \n",
            "22  All India Anna Dravida Munnetra Kazhagam  252042  Result Declared  \n",
            "23                               Independent  166782  Result Declared  \n",
            "24  All India Anna Dravida Munnetra Kazhagam   70357  Result Declared  \n",
            "25  All India Anna Dravida Munnetra Kazhagam  205664  Result Declared  \n",
            "26  All India Anna Dravida Munnetra Kazhagam  487029  Result Declared  \n",
            "27  All India Anna Dravida Munnetra Kazhagam  196199  Result Declared  \n",
            "28          Desiya Murpokku Dravida Kazhagam  319583  Result Declared  \n",
            "29             Amma Makkal Munnettra Kazagam  278825  Result Declared  \n",
            "30  All India Anna Dravida Munnetra Kazhagam  392738  Result Declared  \n",
            "31  All India Anna Dravida Munnetra Kazhagam  313094  Result Declared  \n",
            "32                    Bharatiya Janata Party  165620  Result Declared  \n",
            "33  All India Anna Dravida Munnetra Kazhagam  125928  Result Declared  \n",
            "34                    Bharatiya Janata Party  572155  Result Declared  \n",
            "35  All India Anna Dravida Munnetra Kazhagam  233931  Result Declared  \n",
            "36                    Bharatiya Janata Party  215702  Result Declared  \n",
            "37  All India Anna Dravida Munnetra Kazhagam   70703  Result Declared  \n",
            "38          Desiya Murpokku Dravida Kazhagam    4379  Result Declared  \n"
          ]
        }
      ]
    },
    {
      "cell_type": "code",
      "source": [
        "print(election_data['Leading Party'])"
      ],
      "metadata": {
        "colab": {
          "base_uri": "https://localhost:8080/"
        },
        "id": "ETXbwF3isyLe",
        "outputId": "8df9d5c6-96e5-4067-d809-cec93c773d6f"
      },
      "execution_count": null,
      "outputs": [
        {
          "output_type": "stream",
          "name": "stdout",
          "text": [
            "0     0\n",
            "1     0\n",
            "2     0\n",
            "3     0\n",
            "4     0\n",
            "5     1\n",
            "6     0\n",
            "7     2\n",
            "8     0\n",
            "9     3\n",
            "10    0\n",
            "11    0\n",
            "12    0\n",
            "13    2\n",
            "14    2\n",
            "15    2\n",
            "16    3\n",
            "17    2\n",
            "18    4\n",
            "19    0\n",
            "20    0\n",
            "21    0\n",
            "22    0\n",
            "23    5\n",
            "24    0\n",
            "25    2\n",
            "26    0\n",
            "27    0\n",
            "28    0\n",
            "29    0\n",
            "30    0\n",
            "31    6\n",
            "32    2\n",
            "33    4\n",
            "34    2\n",
            "35    0\n",
            "36    0\n",
            "37    1\n",
            "38    2\n",
            "Name: Leading Party, dtype: int64\n"
          ]
        }
      ]
    },
    {
      "cell_type": "code",
      "source": [
        "plt.bar(election_data['Const. No.'], election_data['Leading Party'])\n",
        "plt.xlabel('Const. No.')\n",
        "plt.ylabel('Leading Party')\n",
        "plt.title('Const. No. vs Leading Party')\n",
        "plt.show"
      ],
      "metadata": {
        "colab": {
          "base_uri": "https://localhost:8080/",
          "height": 641
        },
        "id": "rRnh2LM7tHo8",
        "outputId": "a37256a5-f1a3-4a41-caef-b84ec63e7018"
      },
      "execution_count": null,
      "outputs": [
        {
          "output_type": "execute_result",
          "data": {
            "text/plain": [
              "<function matplotlib.pyplot.show(close=None, block=None)>"
            ],
            "text/html": [
              "<div style=\"max-width:800px; border: 1px solid var(--colab-border-color);\"><style>\n",
              "      pre.function-repr-contents {\n",
              "        overflow-x: auto;\n",
              "        padding: 8px 12px;\n",
              "        max-height: 500px;\n",
              "      }\n",
              "\n",
              "      pre.function-repr-contents.function-repr-contents-collapsed {\n",
              "        cursor: pointer;\n",
              "        max-height: 100px;\n",
              "      }\n",
              "    </style>\n",
              "    <pre style=\"white-space: initial; background:\n",
              "         var(--colab-secondary-surface-color); padding: 8px 12px;\n",
              "         border-bottom: 1px solid var(--colab-border-color);\"><b>matplotlib.pyplot.show</b><br/>def show(*args, **kwargs)</pre><pre class=\"function-repr-contents function-repr-contents-collapsed\" style=\"\"><a class=\"filepath\" style=\"display:none\" href=\"#\">/usr/local/lib/python3.10/dist-packages/matplotlib/pyplot.py</a>Display all open figures.\n",
              "\n",
              "Parameters\n",
              "----------\n",
              "block : bool, optional\n",
              "    Whether to wait for all figures to be closed before returning.\n",
              "\n",
              "    If `True` block and run the GUI main loop until all figure windows\n",
              "    are closed.\n",
              "\n",
              "    If `False` ensure that all figure windows are displayed and return\n",
              "    immediately.  In this case, you are responsible for ensuring\n",
              "    that the event loop is running to have responsive figures.\n",
              "\n",
              "    Defaults to True in non-interactive mode and to False in interactive\n",
              "    mode (see `.pyplot.isinteractive`).\n",
              "\n",
              "See Also\n",
              "--------\n",
              "ion : Enable interactive mode, which shows / updates the figure after\n",
              "      every plotting command, so that calling ``show()`` is not necessary.\n",
              "ioff : Disable interactive mode.\n",
              "savefig : Save the figure to an image file instead of showing it on screen.\n",
              "\n",
              "Notes\n",
              "-----\n",
              "**Saving figures to file and showing a window at the same time**\n",
              "\n",
              "If you want an image file as well as a user interface window, use\n",
              "`.pyplot.savefig` before `.pyplot.show`. At the end of (a blocking)\n",
              "``show()`` the figure is closed and thus unregistered from pyplot. Calling\n",
              "`.pyplot.savefig` afterwards would save a new and thus empty figure. This\n",
              "limitation of command order does not apply if the show is non-blocking or\n",
              "if you keep a reference to the figure and use `.Figure.savefig`.\n",
              "\n",
              "**Auto-show in jupyter notebooks**\n",
              "\n",
              "The jupyter backends (activated via ``%matplotlib inline``,\n",
              "``%matplotlib notebook``, or ``%matplotlib widget``), call ``show()`` at\n",
              "the end of every cell by default. Thus, you usually don&#x27;t have to call it\n",
              "explicitly there.</pre>\n",
              "      <script>\n",
              "      if (google.colab.kernel.accessAllowed && google.colab.files && google.colab.files.view) {\n",
              "        for (const element of document.querySelectorAll('.filepath')) {\n",
              "          element.style.display = 'block'\n",
              "          element.onclick = (event) => {\n",
              "            event.preventDefault();\n",
              "            event.stopPropagation();\n",
              "            google.colab.files.view(element.textContent, 401);\n",
              "          };\n",
              "        }\n",
              "      }\n",
              "      for (const element of document.querySelectorAll('.function-repr-contents')) {\n",
              "        element.onclick = (event) => {\n",
              "          event.preventDefault();\n",
              "          event.stopPropagation();\n",
              "          element.classList.toggle('function-repr-contents-collapsed');\n",
              "        };\n",
              "      }\n",
              "      </script>\n",
              "      </div>"
            ]
          },
          "metadata": {},
          "execution_count": 26
        },
        {
          "output_type": "display_data",
          "data": {
            "text/plain": [
              "<Figure size 640x480 with 1 Axes>"
            ],
            "image/png": "[encoded data removed]"
          },
          "metadata": {}
        }
      ]
    },
    {
      "cell_type": "code",
      "source": [
        "constituency_turnout = election_data.groupby('Constituency')['Status'].count()\n",
        "\n",
        "print(\"\\nVoter Turnout by Constituency:\")\n",
        "print(constituency_turnout)"
      ],
      "metadata": {
        "colab": {
          "base_uri": "https://localhost:8080/"
        },
        "id": "Xzr8bCbu13Nd",
        "outputId": "e9018688-e0d5-48af-f3e2-87744e5c92e6"
      },
      "execution_count": null,
      "outputs": [
        {
          "output_type": "stream",
          "name": "stdout",
          "text": [
            "\n",
            "Voter Turnout by Constituency:\n",
            "Constituency\n",
            "ARAKKONAM          1\n",
            "ARANI              1\n",
            "CHENNAI CENTRAL    1\n",
            "CHENNAI NORTH      1\n",
            "CHENNAI SOUTH      1\n",
            "CHIDAMBARAM        1\n",
            "COIMBATORE         1\n",
            "CUDDALORE          1\n",
            "DHARMAPURI         1\n",
            "DINDIGUL           1\n",
            "ERODE              1\n",
            "KALLAKURICHI       1\n",
            "KANCHEEPURAM       1\n",
            "KANNIYAKUMARI      1\n",
            "KARUR              1\n",
            "KRISHNAGIRI        1\n",
            "MADURAI            1\n",
            "MAYILADUTHURAI     1\n",
            "NAGAPATTINAM       1\n",
            "NAMAKKAL           1\n",
            "NILGIRIS           1\n",
            "PERAMBALUR         1\n",
            "POLLACHI           1\n",
            "RAMANATHAPURAM     1\n",
            "SALEM              1\n",
            "SIVAGANGA          1\n",
            "SRIPERUMBUDUR      1\n",
            "TENKASI            1\n",
            "THANJAVUR          1\n",
            "THENI              1\n",
            "THOOTHUKKUDI       1\n",
            "TIRUCHIRAPPALLI    1\n",
            "TIRUNELVELI        1\n",
            "TIRUPPUR           1\n",
            "TIRUVALLUR         1\n",
            "TIRUVANNAMALAI     1\n",
            "VELLORE            1\n",
            "VILUPPURAM         1\n",
            "VIRUDHUNAGAR       1\n",
            "Name: Status, dtype: int64\n"
          ]
        }
      ]
    }
  ]
}